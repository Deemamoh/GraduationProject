{
 "cells": [
  {
   "cell_type": "code",
   "execution_count": 149,
   "id": "588c9696-4278-404a-959d-06f8dcb70630",
   "metadata": {},
   "outputs": [],
   "source": [
    "#Data preprocessing important libraries\n",
    "import pandas as pd  #Data manipulation\n",
    "import string  #Remove punctuation & characters\n",
    "import nltk  #Natural language processing \n",
    "\n",
    "from nltk.corpus import stopwords  #Stop word removal\n",
    "from nltk.tokenize import word_tokenize  #Tokenizition\n",
    "from nltk.stem import PorterStemmer  #Stemming"
   ]
  },
  {
   "cell_type": "code",
   "execution_count": 151,
   "id": "9f93e7c3-5464-4500-888d-ed7453585d98",
   "metadata": {},
   "outputs": [],
   "source": [
    "#Read excel file\n",
    "text = pd.read_excel(r'C:\\Users\\HUAWEI\\Downloads\\Telegram Desktop\\classfication of BBC news.xlsx')"
   ]
  },
  {
   "cell_type": "code",
   "execution_count": 153,
   "id": "2357c21a-5fff-4a69-8efc-d08e9831e7a7",
   "metadata": {},
   "outputs": [],
   "source": [
    "#Remove unwanted characters\n",
    "text['text'] = text['text'].str.replace(f'[{string.punctuation}]', '', regex=True)"
   ]
  },
  {
   "cell_type": "code",
   "execution_count": 155,
   "id": "aa79b6c6-081b-4ed6-bc3b-6969f761b82f",
   "metadata": {},
   "outputs": [],
   "source": [
    "#Normalization- convert text column into lower case \n",
    "text['text'] = text['text'].str.lower()"
   ]
  },
  {
   "cell_type": "code",
   "execution_count": 166,
   "id": "09c37200-66c5-45fd-9e50-2ea052563433",
   "metadata": {},
   "outputs": [],
   "source": [
    "#Tokenization\n",
    "def tokenize_text(text):\n",
    "    return nltk.word_tokenize(text)\n",
    "\n",
    "#Apply the tokenization function to the text column\n",
    "text['tokens'] = text['text'].apply(tokenize_text)"
   ]
  },
  {
   "cell_type": "code",
   "execution_count": 167,
   "id": "ecb871a2-9bdc-48f0-b8ea-3dddba2ecfe7",
   "metadata": {
    "scrolled": true
   },
   "outputs": [],
   "source": [
    "#Define stop words for English\n",
    "stop_words = set(stopwords.words('english'))\n",
    "\n",
    "#Stop word removal\n",
    "def remove_stop_words(tokens):\n",
    "    return [word for word in tokens if word not in stop_words]\n",
    "\n",
    "#Apply the function to the tokens column\n",
    "text['tokens'] = text['tokens'].apply(remove_stop_words)"
   ]
  },
  {
   "cell_type": "code",
   "execution_count": 162,
   "id": "4d9348be-9c7b-4e21-af51-5f2d892bf824",
   "metadata": {},
   "outputs": [],
   "source": [
    "#Stemming\n",
    "#Initialize the Porter Stemmer\n",
    "stemmer = PorterStemmer()\n",
    "\n",
    "#Function to stem words\n",
    "def stem_words(text):\n",
    "    return ' '.join(stemmer.stem(word) for word in nltk.word_tokenize(text))\n",
    "\n",
    "# Apply the stemming function to the text column\n",
    "text['text'] = text['text'].apply(stem_words)"
   ]
  },
  {
   "cell_type": "code",
   "execution_count": 163,
   "id": "37e6ad6a-a342-4a93-83a5-b5e7527688fd",
   "metadata": {},
   "outputs": [],
   "source": [
    "#save the changes\n",
    "text.to_excel('C:\\\\Users\\\\HUAWEI\\\\Downloads\\\\Telegram Desktop\\\\classfication of BBC news.xlsx', index=False)"
   ]
  },
  {
   "cell_type": "code",
   "execution_count": null,
   "id": "fdf5709d-83ba-469a-b3fb-61f770ae1cee",
   "metadata": {},
   "outputs": [],
   "source": []
  }
 ],
 "metadata": {
  "kernelspec": {
   "display_name": "Python 3 (ipykernel)",
   "language": "python",
   "name": "python3"
  },
  "language_info": {
   "codemirror_mode": {
    "name": "ipython",
    "version": 3
   },
   "file_extension": ".py",
   "mimetype": "text/x-python",
   "name": "python",
   "nbconvert_exporter": "python",
   "pygments_lexer": "ipython3",
   "version": "3.12.4"
  }
 },
 "nbformat": 4,
 "nbformat_minor": 5
}
